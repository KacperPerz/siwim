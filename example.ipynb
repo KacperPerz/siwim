{
 "cells": [
  {
   "cell_type": "code",
   "execution_count": null,
   "metadata": {},
   "outputs": [],
   "source": [
    "from config import TestingConfig, ModelConfig, RANDOM_STATE\n",
    "from super_classifier import SuperClassifier\n",
    "from sklearn.linear_model import LogisticRegression\n",
    "from sklearn.datasets import load_iris\n",
    "from sklearn.ensemble import RandomForestClassifier\n",
    "from sklearn.svm import SVC\n",
    "from sklearn.ensemble import (\n",
    "    GradientBoostingClassifier,\n",
    ")\n",
    "from config import (\n",
    "    EnsembleConfig,\n",
    "    EnsembleEnum,\n",
    "    VotingEnum,\n",
    "    ScoringConfig,\n",
    ")\n",
    "from sklearn.metrics import f1_score, recall_score\n",
    "from sklearn.exceptions import ConvergenceWarning\n",
    "import warnings\n",
    "\n",
    "warnings.filterwarnings(\"ignore\", category=ConvergenceWarning)"
   ]
  },
  {
   "cell_type": "code",
   "execution_count": 2,
   "metadata": {},
   "outputs": [],
   "source": [
    "iris = load_iris()\n",
    "X, y = iris.data, iris.target"
   ]
  },
  {
   "cell_type": "code",
   "execution_count": 3,
   "metadata": {},
   "outputs": [
    {
     "name": "stderr",
     "output_type": "stream",
     "text": [
      "2025-03-24 18:34:03,156 - SuperClassifier - INFO - Evaluating Logistic Regression...\n",
      "2025-03-24 18:34:03,159 - SuperClassifier - INFO - Before creating ensemble\n",
      "2025-03-24 18:34:03,160 - SuperClassifier - INFO - Creating model\n"
     ]
    },
    {
     "name": "stderr",
     "output_type": "stream",
     "text": [
      "2025-03-24 18:34:03,182 - SuperClassifier - INFO -   CV Score: 0.7583 ± 0.0667\n",
      "2025-03-24 18:34:03,182 - SuperClassifier - INFO -   Test Score: 0.6667\n"
     ]
    },
    {
     "name": "stdout",
     "output_type": "stream",
     "text": [
      "                  name  is_ensemble   cv_mean    cv_std  test_score\n",
      "0  Logistic Regression        False  0.758333  0.066667    0.666667\n"
     ]
    }
   ],
   "source": [
    "config1 = TestingConfig(\n",
    "    models=[\n",
    "        ModelConfig(\n",
    "            name=\"Logistic Regression\",\n",
    "            estimator_class=LogisticRegression,\n",
    "            params={\"max_iter\": 3, \"random_state\": RANDOM_STATE},\n",
    "        )\n",
    "    ],\n",
    "    test_size=0.2,\n",
    "    random_state=RANDOM_STATE,\n",
    "    verbose=True,\n",
    ")\n",
    "\n",
    "clf1 = SuperClassifier(config1)\n",
    "results_simple = clf1.fit_evaluate(X, y)\n",
    "print(results_simple)"
   ]
  },
  {
   "cell_type": "code",
   "execution_count": 4,
   "metadata": {},
   "outputs": [
    {
     "name": "stderr",
     "output_type": "stream",
     "text": [
      "2025-03-24 18:34:03,209 - SuperClassifier - INFO - Evaluating Random Forest...\n",
      "2025-03-24 18:34:03,211 - SuperClassifier - INFO - Before creating ensemble\n",
      "2025-03-24 18:34:03,212 - SuperClassifier - INFO - Creating model\n",
      "2025-03-24 18:34:03,365 - SuperClassifier - INFO -   CV Score: 0.9488 ± 0.0611\n",
      "2025-03-24 18:34:03,365 - SuperClassifier - INFO -   Test Score: 1.0000\n",
      "2025-03-24 18:34:03,366 - SuperClassifier - INFO - Evaluating SVM...\n",
      "2025-03-24 18:34:03,366 - SuperClassifier - INFO - Before creating ensemble\n",
      "2025-03-24 18:34:03,366 - SuperClassifier - INFO - Creating model\n",
      "2025-03-24 18:34:03,385 - SuperClassifier - INFO -   CV Score: 0.9500 ± 0.0612\n",
      "2025-03-24 18:34:03,385 - SuperClassifier - INFO -   Test Score: 1.0000\n"
     ]
    },
    {
     "name": "stdout",
     "output_type": "stream",
     "text": [
      "            name  is_ensemble  cv_mean    cv_std  test_score\n",
      "0  Random Forest        False  0.94881  0.061121         1.0\n",
      "1            SVM        False  0.95000  0.061237         1.0\n",
      "Best model: Random Forest with score 1.0000\n"
     ]
    }
   ],
   "source": [
    "config2 = TestingConfig(\n",
    "    models=[\n",
    "        ModelConfig(\n",
    "            name=\"Random Forest\",\n",
    "            estimator_class=RandomForestClassifier,\n",
    "            params={\"n_estimators\": 10, \"random_state\": RANDOM_STATE},\n",
    "            scoring=ScoringConfig(\n",
    "                func=recall_score, kwargs={\"average\": \"macro\"}\n",
    "            ),  # by default average is 'binary' but we have 3 classes\n",
    "        ),\n",
    "        ModelConfig(\n",
    "            name=\"SVM\",\n",
    "            estimator_class=SVC,\n",
    "            params={\"probability\": True, \"random_state\": RANDOM_STATE},\n",
    "            scoring=ScoringConfig(func=recall_score, kwargs={\"average\": \"macro\"}),\n",
    "        ),\n",
    "    ],\n",
    "    verbose=True,\n",
    ")\n",
    "\n",
    "clf2 = SuperClassifier(config2)\n",
    "results2 = clf2.fit_evaluate(X, y)\n",
    "print(results2)\n",
    "\n",
    "best_model = clf2.get_best_model()\n",
    "print(f\"Best model: {best_model['name']} with score {best_model['score']:.4f}\")"
   ]
  },
  {
   "cell_type": "code",
   "execution_count": 5,
   "metadata": {},
   "outputs": [
    {
     "name": "stderr",
     "output_type": "stream",
     "text": [
      "2025-03-24 18:34:03,397 - SuperClassifier - INFO - Evaluating Logistic Regression...\n",
      "2025-03-24 18:34:03,399 - SuperClassifier - INFO - Before creating ensemble\n",
      "2025-03-24 18:34:03,399 - SuperClassifier - INFO - Creating model\n",
      "2025-03-24 18:34:03,449 - SuperClassifier - INFO -   CV Score: 0.9328 ± 0.0575\n",
      "2025-03-24 18:34:03,449 - SuperClassifier - INFO -   Test Score: 1.0000\n",
      "2025-03-24 18:34:03,450 - SuperClassifier - INFO - Evaluating Gradient Boosting...\n",
      "2025-03-24 18:34:03,450 - SuperClassifier - INFO - Before creating ensemble\n",
      "2025-03-24 18:34:03,450 - SuperClassifier - INFO - Creating model\n",
      "2025-03-24 18:34:04,301 - SuperClassifier - INFO -   CV Score: 0.9410 ± 0.0575\n",
      "2025-03-24 18:34:04,302 - SuperClassifier - INFO -   Test Score: 1.0000\n",
      "2025-03-24 18:34:04,303 - SuperClassifier - INFO - Evaluating Voting Ensemble...\n",
      "2025-03-24 18:34:04,303 - SuperClassifier - INFO - Before creating ensemble\n",
      "2025-03-24 18:34:04,304 - SuperClassifier - INFO - Creating ensemble\n",
      "2025-03-24 18:34:04,795 - SuperClassifier - INFO -   CV Score: 0.9561 ± 0.0689\n",
      "2025-03-24 18:34:04,796 - SuperClassifier - INFO -   Test Score: 1.0000\n",
      "2025-03-24 18:34:04,796 - SuperClassifier - INFO - Evaluating Stacking Ensemble...\n",
      "2025-03-24 18:34:04,797 - SuperClassifier - INFO - Before creating ensemble\n",
      "2025-03-24 18:34:04,798 - SuperClassifier - INFO - Creating ensemble\n",
      "2025-03-24 18:34:10,116 - SuperClassifier - INFO -   CV Score: 0.9393 ± 0.0607\n",
      "2025-03-24 18:34:10,117 - SuperClassifier - INFO -   Test Score: 1.0000\n"
     ]
    },
    {
     "name": "stdout",
     "output_type": "stream",
     "text": [
      "                  name  is_ensemble   cv_mean    cv_std  test_score\n",
      "0  Logistic Regression        False  0.932804  0.057458         1.0\n",
      "1    Gradient Boosting         True  0.940971  0.057485         1.0\n",
      "2      Voting Ensemble         True  0.956078  0.068861         1.0\n",
      "3    Stacking Ensemble         True  0.939278  0.060741         1.0\n"
     ]
    }
   ],
   "source": [
    "config3 = TestingConfig(\n",
    "    models=[\n",
    "        ModelConfig(\n",
    "            name=\"Logistic Regression\",\n",
    "            estimator_class=LogisticRegression,\n",
    "            params={\"C\": 0.1, \"max_iter\": 1000, \"random_state\": RANDOM_STATE},\n",
    "            scoring=ScoringConfig(func=f1_score, kwargs={\"average\": \"weighted\"}),\n",
    "        ),\n",
    "        ModelConfig(\n",
    "            name=\"Gradient Boosting\",\n",
    "            estimator_class=GradientBoostingClassifier,\n",
    "            params={\n",
    "                \"n_estimators\": 100,\n",
    "                \"learning_rate\": 0.1,\n",
    "                \"random_state\": RANDOM_STATE,\n",
    "            },\n",
    "            is_ensemble=True,\n",
    "            scoring=ScoringConfig(func=f1_score, kwargs={\"average\": \"weighted\"}),\n",
    "        ),\n",
    "        ModelConfig(\n",
    "            name=\"Voting Ensemble\",\n",
    "            estimator_class=\"sklearn.ensemble.VotingClassifier\",\n",
    "            is_ensemble=True,\n",
    "            ensemble_config=EnsembleConfig(\n",
    "                ensemble_type=EnsembleEnum.voting,\n",
    "                voting_type=VotingEnum.soft,\n",
    "                weights=[1, 2, 3],\n",
    "            ),\n",
    "            scoring=ScoringConfig(func=f1_score, kwargs={\"average\": \"weighted\"}),\n",
    "        ),\n",
    "        ModelConfig(\n",
    "            name=\"Stacking Ensemble\",\n",
    "            estimator_class=\"sklearn.ensemble.StackingClassifier\",\n",
    "            is_ensemble=True,\n",
    "            scoring=ScoringConfig(func=f1_score, kwargs={\"average\": \"weighted\"}),\n",
    "            ensemble_config=EnsembleConfig(\n",
    "                ensemble_type=EnsembleEnum.stacking,\n",
    "                final_estimator=LogisticRegression(C=0.1, max_iter=1000),\n",
    "            ),\n",
    "        ),\n",
    "    ],\n",
    "    ensemble_models=[\n",
    "        LogisticRegression(C=0.1, max_iter=1000),\n",
    "        RandomForestClassifier(n_estimators=50),\n",
    "        SVC(probability=True, kernel=\"rbf\"),\n",
    "    ],\n",
    "    verbose=True,\n",
    ")\n",
    "\n",
    "clf3 = SuperClassifier(config3)\n",
    "results3 = clf3.fit_evaluate(X, y)\n",
    "print(results3)\n",
    "\n",
    "X_new = X[:5]\n",
    "predictions = clf3.predict(X_new)\n",
    "probabilities = clf3.predict_proba(X_new)"
   ]
  }
 ],
 "metadata": {
  "kernelspec": {
   "display_name": ".venv",
   "language": "python",
   "name": "python3"
  },
  "language_info": {
   "codemirror_mode": {
    "name": "ipython",
    "version": 3
   },
   "file_extension": ".py",
   "mimetype": "text/x-python",
   "name": "python",
   "nbconvert_exporter": "python",
   "pygments_lexer": "ipython3",
   "version": "3.12.7"
  }
 },
 "nbformat": 4,
 "nbformat_minor": 2
}
